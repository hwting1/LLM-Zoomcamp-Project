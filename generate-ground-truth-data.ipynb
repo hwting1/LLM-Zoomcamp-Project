{
 "cells": [
  {
   "cell_type": "code",
   "id": "initial_id",
   "metadata": {
    "collapsed": true,
    "ExecuteTime": {
     "end_time": "2024-10-04T09:23:30.044944Z",
     "start_time": "2024-10-04T09:23:29.608172Z"
    }
   },
   "source": [
    "from openai import OpenAI\n",
    "import json\n",
    "from tqdm import tqdm\n",
    "import pandas as pd"
   ],
   "outputs": [],
   "execution_count": 1
  },
  {
   "metadata": {
    "ExecuteTime": {
     "end_time": "2024-10-04T09:23:33.340678Z",
     "start_time": "2024-10-04T09:23:30.063162Z"
    }
   },
   "cell_type": "code",
   "source": [
    "with open(\"Medical-QA.json\", \"r\") as f:\n",
    "    documents = json.load(f)\n",
    "\n",
    "len(documents)"
   ],
   "id": "5b7cb2eef56fabfc",
   "outputs": [
    {
     "data": {
      "text/plain": [
       "16407"
      ]
     },
     "execution_count": 2,
     "metadata": {},
     "output_type": "execute_result"
    }
   ],
   "execution_count": 2
  },
  {
   "metadata": {
    "ExecuteTime": {
     "end_time": "2024-10-04T09:23:33.630600Z",
     "start_time": "2024-10-04T09:23:33.628558Z"
    }
   },
   "cell_type": "code",
   "source": [
    "prompt_template = \"\"\"\n",
    "You are tasked with generating potential questions based on the structure of a medical dataset. This dataset contains fields like Question Type, Question, and Answer. Formulate 5 possible questions that a user might ask based on the provided record. Each question should be complete, concise, and avoid directly using too many words from the record itself.\n",
    "\n",
    "The record format:\n",
    "\n",
    "Question Type: {Question Type}\n",
    "Question: {Question}\n",
    "Answer: {Answer}\n",
    "\n",
    "Please provide the output in parsable JSON format without using code blocks:\n",
    "\n",
    "[\"question1\", \"question2\", ..., \"question5\"]\n",
    "\"\"\".strip()"
   ],
   "id": "fd62b63ef81eab0f",
   "outputs": [],
   "execution_count": 3
  },
  {
   "metadata": {
    "ExecuteTime": {
     "end_time": "2024-10-04T09:23:33.662735Z",
     "start_time": "2024-10-04T09:23:33.635238Z"
    }
   },
   "cell_type": "code",
   "source": [
    "client = OpenAI(\n",
    "    base_url='http://localhost:11434/v1/',\n",
    "    api_key='ollama',\n",
    ")\n",
    "\n",
    "def generate_questions(doc):\n",
    "    prompt = prompt_template.format(**doc)\n",
    "    \n",
    "    response = client.chat.completions.create(\n",
    "        model='gemma2:2b',\n",
    "        messages=[{\"role\": \"user\", \"content\": prompt}],\n",
    "    )\n",
    "\n",
    "    json_response = response.choices[0].message.content\n",
    "    return json_response"
   ],
   "id": "4b16b4abc3995400",
   "outputs": [],
   "execution_count": 4
  },
  {
   "metadata": {
    "ExecuteTime": {
     "end_time": "2024-10-04T13:10:37.458424Z",
     "start_time": "2024-10-04T09:23:33.698958Z"
    }
   },
   "cell_type": "code",
   "source": [
    "results = {}\n",
    "for doc in tqdm(documents):\n",
    "    doc_id = doc['id']\n",
    "    if doc_id in results:\n",
    "        continue\n",
    "    questions = generate_questions(doc)\n",
    "    results[doc_id] = questions\n",
    "    if len(results) >= 2000:\n",
    "        break"
   ],
   "id": "445e916d39f8eef0",
   "outputs": [
    {
     "name": "stderr",
     "output_type": "stream",
     "text": [
      " 12%|█▏        | 2032/16407 [3:47:03<26:46:18,  6.70s/it]\n"
     ]
    }
   ],
   "execution_count": 5
  },
  {
   "metadata": {
    "ExecuteTime": {
     "end_time": "2024-10-04T13:10:37.493834Z",
     "start_time": "2024-10-04T13:10:37.487149Z"
    }
   },
   "cell_type": "code",
   "source": [
    "parsed_resulst = {}\n",
    "for doc_id, json_questions in results.items():\n",
    "    try:\n",
    "        parsed_resulst[doc_id] = json.loads(json_questions)\n",
    "    except json.JSONDecodeError as e:\n",
    "        continue"
   ],
   "id": "9670e6b37b816b7c",
   "outputs": [],
   "execution_count": 6
  },
  {
   "metadata": {
    "ExecuteTime": {
     "end_time": "2024-10-04T13:10:37.536398Z",
     "start_time": "2024-10-04T13:10:37.533729Z"
    }
   },
   "cell_type": "code",
   "source": "len(results), len(parsed_resulst)",
   "id": "40c8e33b70653dd5",
   "outputs": [
    {
     "data": {
      "text/plain": [
       "(2000, 862)"
      ]
     },
     "execution_count": 7,
     "metadata": {},
     "output_type": "execute_result"
    }
   ],
   "execution_count": 7
  },
  {
   "metadata": {
    "ExecuteTime": {
     "end_time": "2024-10-04T13:10:37.678237Z",
     "start_time": "2024-10-04T13:10:37.658211Z"
    }
   },
   "cell_type": "code",
   "source": [
    "final_results = []\n",
    "\n",
    "for doc_id, questions in parsed_resulst.items():\n",
    "    for q in questions:\n",
    "        final_results.append((q, doc_id))\n",
    "\n",
    "df = pd.DataFrame(final_results, columns=['question', 'document'])\n",
    "df.to_csv('ground-truth-data.csv', index=False)"
   ],
   "id": "f07fa1b8adb820a9",
   "outputs": [],
   "execution_count": 8
  },
  {
   "metadata": {
    "ExecuteTime": {
     "end_time": "2024-10-04T13:10:37.716534Z",
     "start_time": "2024-10-04T13:10:37.714413Z"
    }
   },
   "cell_type": "code",
   "source": "",
   "id": "7f4313a4294000a9",
   "outputs": [],
   "execution_count": null
  }
 ],
 "metadata": {
  "kernelspec": {
   "display_name": "Python 3",
   "language": "python",
   "name": "python3"
  },
  "language_info": {
   "codemirror_mode": {
    "name": "ipython",
    "version": 2
   },
   "file_extension": ".py",
   "mimetype": "text/x-python",
   "name": "python",
   "nbconvert_exporter": "python",
   "pygments_lexer": "ipython2",
   "version": "2.7.6"
  }
 },
 "nbformat": 4,
 "nbformat_minor": 5
}
